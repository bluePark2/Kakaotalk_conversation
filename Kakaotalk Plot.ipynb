{
 "cells": [
  {
   "cell_type": "code",
   "execution_count": 4,
   "metadata": {},
   "outputs": [],
   "source": [
    "import pandas as pd\n",
    "\n",
    "def make_sent_df(name_list, sent_list, decreasing):\n",
    "    #declare return df\n",
    "    df = pd.DataFrame()\n",
    "    \n",
    "    unique_name = list(set(name_list))\n",
    "    unique_name.sort()\n",
    "    # append person\n",
    "    for person in  unique_name:\n",
    "        df[person] = sent_list\n",
    "\n",
    "    # not talker dealing\n",
    "    for i in df.index:\n",
    "        for c in df.columns:\n",
    "            if name_list[i] != c:\n",
    "                df.loc[i,c] = 100\n",
    "    df.loc[-1,]= [0,0,0]\n",
    "    df =df.sort_index()        \n",
    "    for i in df.index:\n",
    "        for c in df.columns:\n",
    "            if df.loc[i,c] == 100:\n",
    "                prev = df.loc[i-1,c]\n",
    "                if prev <0.05 and prev>-0.05:\n",
    "                     df.loc[i,c]=0\n",
    "                elif prev>0:\n",
    "                    df.loc[i,c] = df.loc[i-1,c]-decreasing\n",
    "                else:\n",
    "                    df.loc[i,c] = df.loc[i-1,c]+decreasing\n",
    "    df.loc[len(df)-1,]= df.loc[len(df)-2,]\n",
    "    df.loc[len(df)-2,]= df.loc[len(df)-3,]\n",
    "    return df\n",
    "        \n",
    "\n"
   ]
  },
  {
   "cell_type": "code",
   "execution_count": null,
   "metadata": {},
   "outputs": [],
   "source": []
  },
  {
   "cell_type": "code",
   "execution_count": 21,
   "metadata": {
    "scrolled": true
   },
   "outputs": [],
   "source": [
    "from scipy.interpolate import interp1d\n",
    "import numpy as np\n",
    "%matplotlib inline\n",
    "import matplotlib.pyplot as plt\n",
    "\n",
    "def plot_time_sentiment(df):\n",
    "    \n",
    "    new_index = np.arange(-1, len(df)-2, 0.01)\n",
    "    df2 = pd.DataFrame(index = new_index)\n",
    "    \n",
    "    s = ''.join(df.columns)\n",
    "    print(s)\n",
    "    \n",
    "    for c in df.columns:\n",
    "        f1 = interp1d(df.index, df[c], kind='cubic')\n",
    "        df2[c] = f1(new_index)\n",
    "     \n",
    "    df2.index = new_index\n",
    "    \n",
    "    ax2 = df2.plot.line()\n",
    "    ax2.set_title( s +\"'s Sentimental\")\n",
    "    ax2.set_xlabel(\"time\")\n",
    "    ax2.set_ylabel(\"Sentiment\")\n",
    "    \n",
    "\n"
   ]
  },
  {
   "cell_type": "code",
   "execution_count": null,
   "metadata": {},
   "outputs": [],
   "source": [
    "\n"
   ]
  },
  {
   "cell_type": "code",
   "execution_count": 22,
   "metadata": {},
   "outputs": [
    {
     "name": "stdout",
     "output_type": "stream",
     "text": [
      "ABC\n"
     ]
    },
    {
     "data": {
      "image/png": "[encoded data removed]",
      "text/plain": [
       "<Figure size 432x288 with 1 Axes>"
      ]
     },
     "metadata": {
      "needs_background": "light"
     },
     "output_type": "display_data"
    }
   ],
   "source": [
    "name_list = ['A','A','B','B','C','A','B','A','C','C','C','C','C','C','C','C','C','C','C','C','C','C','C','C','C','C','C']\n",
    "sent_list = [0.6, -0.3, 0.2, 0.1, -0.7, -0.4, 1.0, -1,1.0, -0.4, -0.7,0,0,0,0,0,0,0,0,0,0,0,0,0,0,0,0] \n",
    "\n",
    "df = make_sent_df(name_list, sent_list, 0.01)\n",
    "plot_time_sentiment(df)    \n",
    "\n"
   ]
  },
  {
   "cell_type": "code",
   "execution_count": null,
   "metadata": {},
   "outputs": [],
   "source": []
  },
  {
   "cell_type": "code",
   "execution_count": null,
   "metadata": {},
   "outputs": [],
   "source": []
  }
 ],
 "metadata": {
  "kernelspec": {
   "display_name": "Python 3",
   "language": "python",
   "name": "python3"
  },
  "language_info": {
   "codemirror_mode": {
    "name": "ipython",
    "version": 3
   },
   "file_extension": ".py",
   "mimetype": "text/x-python",
   "name": "python",
   "nbconvert_exporter": "python",
   "pygments_lexer": "ipython3",
   "version": "3.7.1"
  }
 },
 "nbformat": 4,
 "nbformat_minor": 2
}
