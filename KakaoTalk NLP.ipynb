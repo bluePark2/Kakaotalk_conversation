{
 "cells": [
  {
   "cell_type": "markdown",
   "metadata": {},
   "source": [
    "# 카카오톡 감정 분석 함수"
   ]
  },
  {
   "cell_type": "markdown",
   "metadata": {},
   "source": [
    "### 카카오톡 파일 처리 conversation_to_list"
   ]
  },
  {
   "cell_type": "code",
   "execution_count": 98,
   "metadata": {},
   "outputs": [
    {
     "name": "stdout",
     "output_type": "stream",
     "text": [
      "박범진\n",
      "안녕하세요\n",
      "\n",
      "박범진\n",
      "톡게시판 '투표': 조이름\n",
      "\n",
      "권현우\n",
      "책 새거 25000에 중고로 파는데 이거 사서 제본하는거 어때요?\n",
      "\n"
     ]
    }
   ],
   "source": [
    "import os\n",
    "os.chdir(\"C:/Users/beomj/Onedrive/바탕 화면\");\n",
    "\n",
    "        \n",
    "def conversation_to_list(kakaotalk_file_name):\n",
    "    \n",
    "    name_list = []\n",
    "    talk_list = []\n",
    "    \n",
    "    f = open(kakaotalk_file_name,'rt',encoding='UTF8');\n",
    "    lines = f.readlines()\n",
    "    for line in lines:\n",
    "        if(line.find('[')==0):\n",
    "            index1 = line.find('[') +1\n",
    "            index2 = line.find(']')\n",
    "            index3 = line.find(']',index2+1) +1\n",
    "\n",
    "            name2 = line[index1:index2]\n",
    "            name_list.append(name2)\n",
    "            talk_list.append(line[index3+1:])\n",
    "\n",
    "    f.close()\n",
    "\n",
    "    return name_list, talk_list\n",
    "        \n",
    "name_list, talk_list=conversation_to_list(\"3355.txt\")"
   ]
  },
  {
   "cell_type": "markdown",
   "metadata": {},
   "source": [
    "### 파파고 번역 conv_translate"
   ]
  },
  {
   "cell_type": "code",
   "execution_count": 85,
   "metadata": {},
   "outputs": [],
   "source": [
    "# 파파고 스트링 번역\n",
    "def papago_translate(context):\n",
    "    try:\n",
    "        url = \"https://openapi.naver.com/v1/papago/n2mt\"\n",
    "        headers= {\"X-Naver-Client-Id\": \"svrfjDI6SLeRFekWQEOz\", \"X-Naver-Client-Secret\":\"JLKglR7QQM\"}\n",
    "        params = {\"source\": \"ko\", \"target\": \"en\", \"text\": context}\n",
    "        response = requests.post(url, headers=headers, data=params)\n",
    "        res = response.json()\n",
    "        return res['message']['result']['translatedText']\n",
    "    except:\n",
    "        return \"번역 실패\"\n",
    "\n",
    "# talk_list 번역\n",
    "def conv_translate(talk_list):\n",
    "    translated_list = []\n",
    "    for i in talk_list:\n",
    "        new = papago_translate(i)\n",
    "        translated_list.append(new)\n",
    "    return translated_list\n"
   ]
  },
  {
   "cell_type": "code",
   "execution_count": 116,
   "metadata": {},
   "outputs": [],
   "source": [
    "trans_list = conv_translate(talk_list[0:20])"
   ]
  },
  {
   "cell_type": "code",
   "execution_count": null,
   "metadata": {},
   "outputs": [],
   "source": [
    "trans_list"
   ]
  }
 ],
 "metadata": {
  "kernelspec": {
   "display_name": "Python 3",
   "language": "python",
   "name": "python3"
  },
  "language_info": {
   "codemirror_mode": {
    "name": "ipython",
    "version": 3
   },
   "file_extension": ".py",
   "mimetype": "text/x-python",
   "name": "python",
   "nbconvert_exporter": "python",
   "pygments_lexer": "ipython3",
   "version": "3.7.1"
  }
 },
 "nbformat": 4,
 "nbformat_minor": 2
}
