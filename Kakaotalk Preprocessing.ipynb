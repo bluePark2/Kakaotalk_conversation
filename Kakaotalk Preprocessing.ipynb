{
 "cells": [
  {
   "cell_type": "markdown",
   "metadata": {},
   "source": [
    "## 카카오톡 파일 처리 함수"
   ]
  },
  {
   "cell_type": "code",
   "execution_count": 1,
   "metadata": {},
   "outputs": [],
   "source": [
    "import os\n",
    "os.chdir(\"C:/Users/beomj/Onedrive/바탕 화면\");\n",
    "\n",
    "        \n",
    "def conversation_to_list(kakaotalk_file_name, Month, Day, AM, Hour, Minute):\n",
    "    \n",
    "    length_of_list = 20\n",
    "    name_list = []\n",
    "    talk_list = []\n",
    "    \n",
    "    f = open(kakaotalk_file_name,'rt',encoding='UTF8');\n",
    "    lines = f.readlines()\n",
    "    #check Month, Day, Hour, Minute and choose 20 words\n",
    "    temp_lines = []\n",
    "    m=0\n",
    "    d=0\n",
    "    c=0\n",
    "    for line in lines:\n",
    "        if(line.find(str(Month)+\"월 \"+str(Day)+\"일\") !=-1 and line.find('[')==-1):\n",
    "            m=1\n",
    "        if(m==1 and AM and line.find(\"오전 \"+str(Hour)+\":\"+Minute)!=-1):\n",
    "            d=1\n",
    "        if(m==1 and not AM and line.find(\"오후 \"+str(Hour)+\":\"+Minute)!=-1):\n",
    "            d=1\n",
    "        if(m==1 and d==1):\n",
    "            temp_lines.append(line)\n",
    "            c += 1\n",
    "        if(c== length_of_list):\n",
    "            break\n",
    "    lines = temp_lines\n",
    "    \n",
    "    # get lines \n",
    "    for line in lines:    \n",
    "        if(line.find('[')==0):\n",
    "            index1 = line.find('[') +1\n",
    "            index2 = line.find(']')\n",
    "            index3 = line.find(']',index2+1) +1\n",
    "\n",
    "            name2 = line[index1:index2]\n",
    "            name_list.append(name2)\n",
    "            talk_list.append(line[index3+1:])\n",
    "\n",
    "    f.close()\n",
    "\n",
    "    return name_list, talk_list\n"
   ]
  },
  {
   "cell_type": "markdown",
   "metadata": {},
   "source": [
    "## 파파고 번역 함수"
   ]
  },
  {
   "cell_type": "code",
   "execution_count": 2,
   "metadata": {},
   "outputs": [],
   "source": [
    "import requests\n",
    "# 파파고 스트링 번역\n",
    "\n",
    "def papago_translate(context):\n",
    "    try:\n",
    "        USER_ID = \"svrfjDI6SLeRFekWQEOz\" # 개발자센터에서 발급받은 Client ID 값\n",
    "        USER_SECRET = \"JLKglR7QQM\" # 개발자센터에서 발급받은 Client Secret 값\n",
    "        url = \"https://openapi.naver.com/v1/papago/n2mt\"\n",
    "        headers= {\"X-Naver-Client-Id\": USER_ID, \"X-Naver-Client-Secret\":USER_SECRET}\n",
    "        params = {\"source\": \"ko\", \"target\": \"en\", \"text\": context}\n",
    "        response = requests.post(url, headers=headers, data=params)\n",
    "        res = response.json()\n",
    "        return res['message']['result']['translatedText']\n",
    "    except:\n",
    "        return \"PAPAGO_FAILED\"\n",
    "\n",
    "# talk_list 번역\n",
    "def conv_translate(talk_list):\n",
    "    translated_list = []\n",
    "    for i in talk_list:\n",
    "        new = papago_translate(i)\n",
    "        translated_list.append(new)\n",
    "    return translated_list\n"
   ]
  },
  {
   "cell_type": "markdown",
   "metadata": {},
   "source": [
    "## 감정 계산 함수"
   ]
  },
  {
   "cell_type": "code",
   "execution_count": null,
   "metadata": {},
   "outputs": [],
   "source": [
    "from nltk.sentiment.vader import SentimentIntensityAnalyzer\n",
    "\n",
    "\n",
    "def make_sent_list(trans_list):\n",
    "    sent_list = []\n",
    "    senti_analyzer = SentimentIntensityAnalyzer()\n",
    "    for i in trans_list:\n",
    "        score=senti_analyzer.polarity_scores(i)['compound']\n",
    "        sent_list.append(score)\n",
    "    return sent_list\n",
    "    \n",
    "    \n",
    "def chat_labeling(score):\n",
    "    if score>=0.3:\n",
    "        return 'Good'\n",
    "    elif score<=-0.3:\n",
    "        return 'Bad'\n",
    "    else:\n",
    "        return \"SoSo\"\n"
   ]
  }
 ],
 "metadata": {
  "kernelspec": {
   "display_name": "Python 3",
   "language": "python",
   "name": "python3"
  },
  "language_info": {
   "codemirror_mode": {
    "name": "ipython",
    "version": 3
   },
   "file_extension": ".py",
   "mimetype": "text/x-python",
   "name": "python",
   "nbconvert_exporter": "python",
   "pygments_lexer": "ipython3",
   "version": "3.7.1"
  }
 },
 "nbformat": 4,
 "nbformat_minor": 2
}
